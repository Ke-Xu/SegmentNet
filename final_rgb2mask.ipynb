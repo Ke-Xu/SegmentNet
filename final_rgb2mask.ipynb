{
 "cells": [
  {
   "cell_type": "code",
   "execution_count": 3,
   "metadata": {},
   "outputs": [],
   "source": [
    "from skimage.io import imread, imsave, imshow\n",
    "import numpy as np\n",
    "from os.path import join\n",
    "from os import makedirs"
   ]
  },
  {
   "cell_type": "code",
   "execution_count": 21,
   "metadata": {},
   "outputs": [
    {
     "name": "stdout",
     "output_type": "stream",
     "text": [
      "[65280, 118784, 125440, 146176]\n"
     ]
    }
   ],
   "source": [
    "image_path = '../data/small_dataset/Data_type_1_RGB/y/{}.tif'.format(1)\n",
    "image = imread(image_path)\n",
    "colors = [np.sum(image[0][0].copy()), np.sum(image[1356][284].copy()), \n",
    "          np.sum(image[1400][90].copy()), np.sum(image[1390][32].copy())]\n",
    "print(colors)"
   ]
  },
  {
   "cell_type": "code",
   "execution_count": 22,
   "metadata": {},
   "outputs": [
    {
     "data": {
      "text/plain": [
       "False"
      ]
     },
     "execution_count": 22,
     "metadata": {},
     "output_type": "execute_result"
    }
   ],
   "source": [
    "colors[0] == colors[2]\n"
   ]
  },
  {
   "cell_type": "code",
   "execution_count": 23,
   "metadata": {
    "scrolled": true
   },
   "outputs": [
    {
     "name": "stdout",
     "output_type": "stream",
     "text": [
      "(2560, 2560)\n"
     ]
    }
   ],
   "source": [
    "img_trans = np.sum(image, axis=2)\n",
    "print(img_trans.shape)"
   ]
  },
  {
   "cell_type": "code",
   "execution_count": 26,
   "metadata": {
    "scrolled": false
   },
   "outputs": [
    {
     "name": "stdout",
     "output_type": "stream",
     "text": [
      "(2560, 2560, 3)\n",
      "(array([   0,    0,    0, ..., 2559, 2559, 2559]), array([   0,    1,    2, ..., 2557, 2558, 2559]))\n",
      "(array([1117, 1117, 1118, ..., 1989, 1989, 1989]), array([1906, 1907, 1905, ...,  314,  315,  316]))\n",
      "(array([1104, 1104, 1104, ..., 1992, 1992, 1993]), array([1906, 1907, 1908, ...,  305,  306,  303]))\n",
      "(array([1103, 1103, 1104, ..., 1999, 1999, 1999]), array([1905, 1906, 1903, ...,  262,  263,  265]))\n",
      "(2560, 2560, 3)\n",
      "(array([   0,    0,    0, ..., 2559, 2559, 2559]), array([   0,    1,    2, ..., 2557, 2558, 2559]))\n",
      "(array([ 395,  397,  398, ..., 2193, 2193, 2194]), array([1401, 1401, 1400, ..., 1104, 1105, 1105]))\n",
      "(array([ 387,  387,  387, ..., 2198, 2198, 2199]), array([1409, 1415, 1416, ..., 1096, 1097, 1092]))\n",
      "(array([ 430,  432,  438, ..., 2037, 2065, 2117]), array([1325, 1325, 1299, ...,  999, 1029, 1192]))\n"
     ]
    },
    {
     "name": "stderr",
     "output_type": "stream",
     "text": [
      "/Users/floraxue/anaconda3/envs/tensorflow/lib/python3.5/site-packages/skimage/io/_io.py:132: UserWarning: ../data/small_dataset/Data_type_1_RGB/y/M_phase/0002_mask.tif is a low contrast image\n",
      "  warn('%s is a low contrast image' % fname)\n"
     ]
    },
    {
     "name": "stdout",
     "output_type": "stream",
     "text": [
      "(2560, 2560, 3)\n",
      "(array([   0,    0,    0, ..., 2559, 2559, 2559]), array([   0,    1,    2, ..., 2557, 2558, 2559]))\n",
      "(array([ 524,  525,  525, ..., 2000, 2001, 2001]), array([2284, 2282, 2283, ...,  261,  250,  251]))\n",
      "(array([ 510,  511,  511, ..., 2001, 2001, 2001]), array([2298, 2297, 2298, ...,  257,  258,  259]))\n",
      "(array([ 507,  507,  507, ..., 2009, 2010, 2010]), array([2294, 2295, 2296, ...,  550,  257,  545]))\n",
      "(2560, 2560, 3)\n",
      "(array([   0,    0,    0, ..., 2559, 2559, 2559]), array([   0,    1,    2, ..., 2557, 2558, 2559]))\n",
      "(array([ 373,  373,  373, ..., 2132, 2150, 2151]), array([1354, 1355, 1356, ..., 1070, 1094, 1090]))\n",
      "(array([ 371,  371,  371, ..., 2169, 2169, 2169]), array([1365, 1366, 1367, ..., 1128, 1129, 1130]))\n",
      "(array([ 368,  368,  368, ..., 2171, 2171, 2172]), array([1348, 1358, 1359, ..., 1133, 1138, 1138]))\n",
      "(2560, 2560, 3)\n"
     ]
    },
    {
     "name": "stderr",
     "output_type": "stream",
     "text": [
      "/Users/floraxue/anaconda3/envs/tensorflow/lib/python3.5/site-packages/skimage/io/_io.py:132: UserWarning: ../data/small_dataset/Data_type_1_RGB/y/M_phase/0004_mask.tif is a low contrast image\n",
      "  warn('%s is a low contrast image' % fname)\n"
     ]
    },
    {
     "name": "stdout",
     "output_type": "stream",
     "text": [
      "(array([   0,    0,    0, ..., 2559, 2559, 2559]), array([   0,    1,    2, ..., 2557, 2558, 2559]))\n",
      "(array([ 504,  505,  505, ..., 2010, 2010, 2010]), array([2297, 2296, 2297, ...,  244,  245,  247]))\n",
      "(array([ 498,  498,  498, ..., 2082, 2082, 2082]), array([2277, 2278, 2279, ..., 1349, 1358, 1359]))\n",
      "(array([ 493,  493,  493, ..., 2019, 2019, 2019]), array([2281, 2282, 2283, ...,  245,  246,  247]))\n",
      "(2560, 2560, 3)\n",
      "(array([   0,    0,    0, ..., 2559, 2559, 2559]), array([   0,    1,    2, ..., 2557, 2558, 2559]))\n",
      "(array([ 374,  374,  374, ..., 2162, 2163, 2163]), array([1376, 1377, 1378, ..., 1096, 1095, 1096]))\n",
      "(array([ 372,  372,  372, ..., 2167, 2167, 2167]), array([1373, 1376, 1377, ..., 1124, 1125, 1126]))\n",
      "(array([ 372,  372,  379, ..., 2136, 2157, 2158]), array([1374, 1375, 1332, ..., 1104, 1092, 1092]))\n"
     ]
    },
    {
     "name": "stderr",
     "output_type": "stream",
     "text": [
      "/Users/floraxue/anaconda3/envs/tensorflow/lib/python3.5/site-packages/skimage/io/_io.py:132: UserWarning: ../data/small_dataset/Data_type_1_RGB/y/M_phase/0006_mask.tif is a low contrast image\n",
      "  warn('%s is a low contrast image' % fname)\n"
     ]
    }
   ],
   "source": [
    "for image_id in range(1, 7):\n",
    "    image_path = '../data/small_dataset/Data_type_1_RGB/y/{}.tif'.format(image_id)\n",
    "    image = imread(image_path)\n",
    "    print(image.shape)\n",
    "    \n",
    "    img_trans = np.sum(image, axis=2)\n",
    "\n",
    "    dir_names = ['A_phase', 'B_phase', 'C_phase', 'M_phase']\n",
    "\n",
    "    save_dir = '../data/small_dataset/Data_type_1_RGB/y/'\n",
    "\n",
    "    for i in range(len(dir_names)):\n",
    "        d = dir_names[i]\n",
    "        c = colors[i]\n",
    "\n",
    "        makedirs(join(save_dir, d), exist_ok=True)\n",
    "\n",
    "        indices = np.where(img_trans == c)\n",
    "        print(indices)\n",
    "        new_img = np.zeros(image.shape[:2], dtype='uint8')\n",
    "        new_img[indices] = 255\n",
    "\n",
    "        imsave(join(save_dir, d, '{:04d}_mask.tif'.format(image_id)), new_img)"
   ]
  },
  {
   "cell_type": "code",
   "execution_count": 17,
   "metadata": {},
   "outputs": [
    {
     "name": "stderr",
     "output_type": "stream",
     "text": [
      "/Users/floraxue/anaconda3/envs/tensorflow/lib/python3.5/site-packages/skimage/io/_plugins/matplotlib_plugin.py:51: FutureWarning: Conversion of the second argument of issubdtype from `float` to `np.floating` is deprecated. In future, it will be treated as `np.float64 == np.dtype(float).type`.\n",
      "  out_of_range_float = (np.issubdtype(image.dtype, np.float) and\n",
      "/Users/floraxue/anaconda3/envs/tensorflow/lib/python3.5/site-packages/matplotlib/axes/_base.py:1400: MatplotlibDeprecationWarning: The 'box-forced' keyword argument is deprecated since 2.2.\n",
      "  \" since 2.2.\", cbook.mplDeprecation)\n"
     ]
    },
    {
     "data": {
      "text/plain": [
       "<matplotlib.image.AxesImage at 0x11b572e10>"
      ]
     },
     "execution_count": 17,
     "metadata": {},
     "output_type": "execute_result"
    },
    {
     "data": {
      "image/png": "[encoded data removed]",
      "text/plain": [
       "<Figure size 432x288 with 1 Axes>"
      ]
     },
     "metadata": {},
     "output_type": "display_data"
    }
   ],
   "source": [
    "from skimage.io import imshow\n",
    "imshow(new_img)"
   ]
  },
  {
   "cell_type": "code",
   "execution_count": 18,
   "metadata": {},
   "outputs": [],
   "source": [
    "import matplotlib.pyplot as plt\n"
   ]
  },
  {
   "cell_type": "code",
   "execution_count": 19,
   "metadata": {},
   "outputs": [],
   "source": [
    "plt.imsave('test.tif', new_img)"
   ]
  },
  {
   "cell_type": "code",
   "execution_count": 20,
   "metadata": {},
   "outputs": [
    {
     "data": {
      "text/plain": [
       "<matplotlib.image.AxesImage at 0x11b6529e8>"
      ]
     },
     "execution_count": 20,
     "metadata": {},
     "output_type": "execute_result"
    },
    {
     "data": {
      "image/png": "[encoded data removed]",
      "text/plain": [
       "<Figure size 432x288 with 1 Axes>"
      ]
     },
     "metadata": {},
     "output_type": "display_data"
    }
   ],
   "source": [
    "plt.imshow(new_img)"
   ]
  },
  {
   "cell_type": "code",
   "execution_count": 21,
   "metadata": {},
   "outputs": [],
   "source": [
    "loaded = imread(join(save_dir, 'M_phase', '0006_mask.tif'))"
   ]
  },
  {
   "cell_type": "code",
   "execution_count": 22,
   "metadata": {},
   "outputs": [
    {
     "name": "stderr",
     "output_type": "stream",
     "text": [
      "/Users/floraxue/anaconda3/envs/tensorflow/lib/python3.5/site-packages/skimage/io/_plugins/matplotlib_plugin.py:51: FutureWarning: Conversion of the second argument of issubdtype from `float` to `np.floating` is deprecated. In future, it will be treated as `np.float64 == np.dtype(float).type`.\n",
      "  out_of_range_float = (np.issubdtype(image.dtype, np.float) and\n",
      "/Users/floraxue/anaconda3/envs/tensorflow/lib/python3.5/site-packages/matplotlib/axes/_base.py:1400: MatplotlibDeprecationWarning: The 'box-forced' keyword argument is deprecated since 2.2.\n",
      "  \" since 2.2.\", cbook.mplDeprecation)\n"
     ]
    },
    {
     "data": {
      "text/plain": [
       "<matplotlib.image.AxesImage at 0x11bf15668>"
      ]
     },
     "execution_count": 22,
     "metadata": {},
     "output_type": "execute_result"
    },
    {
     "data": {
      "image/png": "[encoded data removed]",
      "text/plain": [
       "<Figure size 432x288 with 1 Axes>"
      ]
     },
     "metadata": {},
     "output_type": "display_data"
    }
   ],
   "source": [
    "imshow(loaded)"
   ]
  },
  {
   "cell_type": "code",
   "execution_count": 11,
   "metadata": {},
   "outputs": [
    {
     "data": {
      "text/plain": [
       "array([[1., 1., 1., ..., 1., 1., 1.],\n",
       "       [1., 1., 1., ..., 1., 1., 1.],\n",
       "       [1., 1., 1., ..., 1., 1., 1.],\n",
       "       ...,\n",
       "       [1., 1., 1., ..., 1., 1., 1.],\n",
       "       [1., 1., 1., ..., 1., 1., 1.],\n",
       "       [1., 1., 1., ..., 1., 1., 1.]])"
      ]
     },
     "execution_count": 11,
     "metadata": {},
     "output_type": "execute_result"
    }
   ],
   "source": [
    "loaded"
   ]
  },
  {
   "cell_type": "code",
   "execution_count": 15,
   "metadata": {},
   "outputs": [
    {
     "ename": "ImportError",
     "evalue": "No module named 'pillow'",
     "output_type": "error",
     "traceback": [
      "\u001b[0;31m---------------------------------------------------------------------------\u001b[0m",
      "\u001b[0;31mImportError\u001b[0m                               Traceback (most recent call last)",
      "\u001b[0;32m<ipython-input-15-d63d66e1c5b3>\u001b[0m in \u001b[0;36m<module>\u001b[0;34m()\u001b[0m\n\u001b[0;32m----> 1\u001b[0;31m \u001b[0;32mfrom\u001b[0m \u001b[0mpillow\u001b[0m \u001b[0;32mimport\u001b[0m \u001b[0mPIL\u001b[0m\u001b[0;34m\u001b[0m\u001b[0m\n\u001b[0m",
      "\u001b[0;31mImportError\u001b[0m: No module named 'pillow'"
     ]
    }
   ],
   "source": [
    "from pillow import PIL"
   ]
  },
  {
   "cell_type": "code",
   "execution_count": null,
   "metadata": {},
   "outputs": [],
   "source": []
  }
 ],
 "metadata": {
  "kernelspec": {
   "display_name": "Python 3",
   "language": "python",
   "name": "python3"
  },
  "language_info": {
   "codemirror_mode": {
    "name": "ipython",
    "version": 3
   },
   "file_extension": ".py",
   "mimetype": "text/x-python",
   "name": "python",
   "nbconvert_exporter": "python",
   "pygments_lexer": "ipython3",
   "version": "3.5.5"
  }
 },
 "nbformat": 4,
 "nbformat_minor": 2
}
